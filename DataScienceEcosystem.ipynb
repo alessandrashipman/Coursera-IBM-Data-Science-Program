{
 "cells": [
  {
   "cell_type": "markdown",
   "id": "8ef866d4-7964-4be0-bd1d-95fe5d02d1cd",
   "metadata": {
    "tags": []
   },
   "source": [
    "# Data Science Tools and Ecosystem"
   ]
  },
  {
   "cell_type": "markdown",
   "id": "0c8daa4a-de0f-4978-af40-c1d037671f0c",
   "metadata": {
    "tags": []
   },
   "source": [
    "In this notebook, Data Science Tools and Ecosystem are summarized"
   ]
  },
  {
   "cell_type": "markdown",
   "id": "7b99c9d0-9c15-4bd1-a582-66c85142bf71",
   "metadata": {
    "tags": []
   },
   "source": [
    "**Objectives:**\n",
    "- Popular Data Science Languages\n",
    "- Data Science Libraries\n",
    "- Data Science Tools\n",
    "- Evaulating Arithmetic Expressions in Python"
   ]
  },
  {
   "cell_type": "markdown",
   "id": "00bbc570-aded-4cfc-a2fa-4c94ff16e24a",
   "metadata": {
    "tags": []
   },
   "source": [
    "Some of the popular languages that Data Scientists use are:\n",
    "    \n",
    "    1. Python\n",
    "    2. R\n",
    "    3. Scala\n",
    "    4. Java"
   ]
  },
  {
   "cell_type": "markdown",
   "id": "72d6de02-d444-4290-805e-bdb6892c9754",
   "metadata": {},
   "source": [
    "Some of the commonly used libraries used by Data Scientists include:\n",
    "\n",
    "    1. Pandas\n",
    "    2. Matplotlib\n",
    "    3. TensorFlow"
   ]
  },
  {
   "cell_type": "markdown",
   "id": "2ed834c1-7b0b-4f1a-8524-74cc40c740ae",
   "metadata": {
    "tags": []
   },
   "source": [
    "| Data Science Tools |\n",
    "|--------------------|\n",
    "|Data Asset eXchange |\n",
    "|Model Asset eXchange|\n",
    "|APIs|"
   ]
  },
  {
   "cell_type": "markdown",
   "id": "7aadda65-c708-4a46-aebe-20014bf82b3e",
   "metadata": {
    "tags": []
   },
   "source": [
    "### Below are a few examples of evaluating arithmetic expressions in Python"
   ]
  },
  {
   "cell_type": "code",
   "execution_count": 7,
   "id": "a12d76f1-7a42-4694-a842-1fb82985cab2",
   "metadata": {
    "tags": []
   },
   "outputs": [
    {
     "data": {
      "text/plain": [
       "17"
      ]
     },
     "execution_count": 7,
     "metadata": {},
     "output_type": "execute_result"
    }
   ],
   "source": [
    "#This a simple arithmetic expression to mutiply then add integers\n",
    "(3*4)+5"
   ]
  },
  {
   "cell_type": "code",
   "execution_count": 8,
   "id": "1199e4ee-b131-464b-b949-382309ad8ab0",
   "metadata": {
    "tags": []
   },
   "outputs": [
    {
     "data": {
      "text/plain": [
       "3.3333333333333335"
      ]
     },
     "execution_count": 8,
     "metadata": {},
     "output_type": "execute_result"
    }
   ],
   "source": [
    "#This will convert 200 minutes to hours by diving by 60\n",
    "200/60"
   ]
  },
  {
   "cell_type": "markdown",
   "id": "9e09583d-75d5-4711-8669-ee65dab5f6b4",
   "metadata": {
    "tags": []
   },
   "source": [
    "## Author\n",
    "Alessandra Shipman"
   ]
  }
 ],
 "metadata": {
  "kernelspec": {
   "display_name": "Python 3 (ipykernel)",
   "language": "python",
   "name": "python3"
  },
  "language_info": {
   "codemirror_mode": {
    "name": "ipython",
    "version": 3
   },
   "file_extension": ".py",
   "mimetype": "text/x-python",
   "name": "python",
   "nbconvert_exporter": "python",
   "pygments_lexer": "ipython3",
   "version": "3.11.5"
  }
 },
 "nbformat": 4,
 "nbformat_minor": 5
}
